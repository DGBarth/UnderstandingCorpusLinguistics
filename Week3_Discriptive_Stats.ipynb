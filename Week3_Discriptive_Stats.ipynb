{
 "cells": [
  {
   "cell_type": "markdown",
   "id": "101a2683",
   "metadata": {},
   "source": [
    "## Corpus Linguistics - LING3038/6038\n",
    "### Week 3\n",
    "\n",
    "How can we do some descriptive corpus statistics with R?\n",
    "\n",
    "An easy way to get started is to import a text from the web. "
   ]
  },
  {
   "cell_type": "code",
   "execution_count": null,
   "id": "2ec5f3f2",
   "metadata": {},
   "outputs": [],
   "source": [
    "moby<-read.delim(\"https://www.gutenberg.org/files/2701/2701-0.txt\",encoding=\"UTF-8\",sep=\"\\n\") #this function has 3 arguments\n",
    "#the website from which we are reading data\n",
    "#the text encoding. UTF-8 works well for most languages. If the text was encoded with a different system, we could specfic this here\n",
    "#what is used to separate parts of the text in the file. Here it is different lines so we use \\n to mean 'new line'\n",
    "moby2"
   ]
  },
  {
   "cell_type": "code",
   "execution_count": null,
   "id": "2a037ca9",
   "metadata": {},
   "outputs": [],
   "source": [
    "#we can see the first and last bits of our object by using head() and tail(). \n",
    "#We use a comma and then an argument to define how many lines we want to see.\n",
    "\n",
    "head(moby,300)\n",
    "tail(moby,300)"
   ]
  },
  {
   "cell_type": "markdown",
   "id": "02709a0d",
   "metadata": {},
   "source": [
    "There is a lot of header/footer information that we do not want to contribute to our word counts. \n",
    "We want to exlude that header/footer information. How can we do that?\n",
    "We can figure out the number of the rows where the data starts and ends.\n",
    "Then we save that portion as a new object."
   ]
  },
  {
   "cell_type": "code",
   "execution_count": null,
   "id": "188d9ad5",
   "metadata": {},
   "outputs": [],
   "source": [
    "#find the line that starts the actual text\n",
    "moby[14:16,]\n",
    "\n",
    "\n",
    "#find the line that ends the actual text\n",
    "moby[18928:18929,]"
   ]
  },
  {
   "cell_type": "markdown",
   "id": "240fccb3",
   "metadata": {},
   "source": [
    "This works if you already know the line numbers of around the start/end of the text\n"
   ]
  },
  {
   "cell_type": "code",
   "execution_count": null,
   "id": "62778701",
   "metadata": {},
   "outputs": [],
   "source": [
    "moby.text<-moby[15:18928,]"
   ]
  },
  {
   "cell_type": "code",
   "execution_count": null,
   "id": "73dafd86",
   "metadata": {},
   "outputs": [],
   "source": [
    "##Another way to read in texts is with the funtcion readLines()\n",
    "##Then name our lines based on finding certain indicators/signals of when the text starts and stops\n",
    "##to find those indications we search for them using grep()\n",
    "\n",
    "moby2<-readLines(\"https://www.gutenberg.org/files/2701/2701-0.txt\",encoding=\"UTF-8\")\n",
    "head(moby2)\n",
    "\n",
    "##Then we search for strings that signal the start/stop of the text and name them:\n",
    "##Most Gutenberg texts contain a string like \"START OF xxxx\" / \"END OF xxxx\"\n",
    "\n",
    "# the text starts after the Project Gutenberg header...\n",
    "start <- grep(\"START OF THE PROJECT GUTENBERG\", moby2, value=F) + 1 #one line after the line with this text\n",
    "\n",
    "# ...end ends at the Project Gutenberg footer.\n",
    "stop <- grep(\"END OF THE PROJECT GUTENBERG\", moby2,value=F) - 1 #one line before the line with this text\n",
    "\n",
    "start\n",
    "stop\n",
    "\n"
   ]
  },
  {
   "cell_type": "code",
   "execution_count": null,
   "id": "5783e177",
   "metadata": {},
   "outputs": [],
   "source": [
    "moby.lines <- moby2[start:stop]\n",
    "head(moby.lines,25) #lets see the start of the text now"
   ]
  },
  {
   "cell_type": "markdown",
   "id": "df8965b2",
   "metadata": {},
   "source": [
    "We might also decide that we do not want to start with \"CHAPTER 1\" but rather with the classic line \"Call me Ishmael\". How would we change our start search to make this happen?"
   ]
  },
  {
   "cell_type": "code",
   "execution_count": null,
   "id": "f09a5674",
   "metadata": {},
   "outputs": [],
   "source": [
    "#You put in what we want to search for (Call me Ishmael)\n",
    "Ishmael.start <- grep(\"\", moby2, value=F) #no plus 1 as we want to start with this line of text\n",
    "\n",
    "#now create another object called moby.lines2. You put in the start and stop objects\n",
    "\n",
    "moby.lines2<-moby2[:]\n",
    "\n",
    "head(moby.lines2,20)"
   ]
  },
  {
   "cell_type": "markdown",
   "id": "1acf6ff8",
   "metadata": {},
   "source": [
    "Note that these different strategies of reading in and selecting our portions of the text results in different sized objects.\n"
   ]
  },
  {
   "cell_type": "code",
   "execution_count": null,
   "id": "fad354b7",
   "metadata": {},
   "outputs": [],
   "source": [
    "length(moby.text)\n",
    "length(moby.lines)\n",
    "length(moby.lines2)\n",
    "\n"
   ]
  },
  {
   "cell_type": "markdown",
   "id": "8c357b49",
   "metadata": {},
   "source": [
    "Now let's work with our object 'moby.lines'"
   ]
  },
  {
   "cell_type": "code",
   "execution_count": null,
   "id": "fd3ec006",
   "metadata": {},
   "outputs": [],
   "source": [
    "head(moby.lines)"
   ]
  },
  {
   "cell_type": "code",
   "execution_count": null,
   "id": "b73ab370",
   "metadata": {},
   "outputs": [],
   "source": [
    "#we now are going to turn everything into lowercase\n",
    "\n",
    "moby.text.lowercase<-tolower(moby.lines)\n",
    "head(moby.text.lowercase)"
   ]
  },
  {
   "cell_type": "code",
   "execution_count": null,
   "id": "0bb1a829",
   "metadata": {},
   "outputs": [],
   "source": [
    "#Right now our ojbect is a list of character strings of different lengths. We want to make our text into one long string.\n",
    "#We do this with paste() and unlist()\n",
    "\n",
    "moby.text.lowercase.vector<-paste(unlist(moby.text.lowercase), collapse =\" \")\n",
    "\n",
    "length(moby.text.lowercase)\n",
    "length(moby.text.lowercase.vector)"
   ]
  },
  {
   "cell_type": "code",
   "execution_count": null,
   "id": "ecdb2437",
   "metadata": {},
   "outputs": [],
   "source": [
    "moby.vec<-moby.text.lowercase.vector #this is just to create a back-up object and work with an object with a shorter name"
   ]
  },
  {
   "cell_type": "markdown",
   "id": "dfa61a67",
   "metadata": {},
   "source": [
    "There are a lot of R packages out there that deal with corpus data and have functions to do the main corpus things like turn a text into a collection of word tokens. Here are a few:"
   ]
  },
  {
   "cell_type": "code",
   "execution_count": null,
   "id": "afbdb6ea",
   "metadata": {},
   "outputs": [],
   "source": [
    "library(corpus)\n",
    "moby.toks.corpus<-text_tokens(moby.vec, drop_punct=T)\n",
    "moby.toks.corpus"
   ]
  },
  {
   "cell_type": "code",
   "execution_count": null,
   "id": "fee32f1c",
   "metadata": {},
   "outputs": [],
   "source": [
    "library(stringr)\n",
    "moby.toks.stringr<-str_split(moby.vec, \"\\\\s|[[:PUNCT:]]\") #this is a regular expression. we'll get to these soon\n",
    "moby.toks.stringr"
   ]
  },
  {
   "cell_type": "code",
   "execution_count": null,
   "id": "f46e0453",
   "metadata": {},
   "outputs": [],
   "source": [
    "library(tm)\n",
    "moby.toks.tm.scan<-scan_tokenizer(moby.vec) #this package has a few different tokenizers with different function names\n",
    "moby.toks.tm.scan"
   ]
  },
  {
   "cell_type": "markdown",
   "id": "378d8db3",
   "metadata": {},
   "source": [
    "Now that we have a bunch of tokens, we can start counting them, their types and doing basic corpus description tasks. I am going to load {data.table} to do this and turn my {corpus} created tokens into a data.table"
   ]
  },
  {
   "cell_type": "code",
   "execution_count": null,
   "id": "ec2e078b",
   "metadata": {},
   "outputs": [],
   "source": [
    "library(data.table)\n",
    "dt<-as.data.table(moby.toks.corpus, na.rm=T)\n",
    "dt"
   ]
  },
  {
   "cell_type": "code",
   "execution_count": null,
   "id": "18b71956",
   "metadata": {},
   "outputs": [],
   "source": [
    "##turn it into a frequency table\n",
    "#add a column to count the words\n",
    "dt[, word_count := .N, by = V1] #.N counts the instances of things##turn it into a frequency table\n",
    "#add a column to count the words\n",
    "dt[, word_count := .N, by = V1] #.N counts the instances of things"
   ]
  },
  {
   "cell_type": "code",
   "execution_count": null,
   "id": "1d91e5c5",
   "metadata": {},
   "outputs": [],
   "source": [
    "#reduce tokens to types by getting the unique tokens\n",
    "dtm<-unique(dt[,c(\"V1\",\"word_count\")])\n",
    "colnames(dtm)[1]<-\"word\"\n",
    "colnames(dtm)[2]<-\"freq\""
   ]
  },
  {
   "cell_type": "code",
   "execution_count": null,
   "id": "82688bfe",
   "metadata": {},
   "outputs": [],
   "source": [
    "dtm"
   ]
  },
  {
   "cell_type": "code",
   "execution_count": null,
   "id": "d5cc3606",
   "metadata": {},
   "outputs": [],
   "source": [
    "#Let's sort this in a more useful way\n",
    "setkey(dtm,freq)\n",
    "dtm\n"
   ]
  },
  {
   "cell_type": "code",
   "execution_count": null,
   "id": "7817e9d2",
   "metadata": {},
   "outputs": [],
   "source": [
    "library(ggplot2)\n",
    "ggplot(subset(dtm, freq > 350) ,aes(reorder(word, -freq), freq))+\n",
    "  geom_bar(stat=\"identity\")+\n",
    "  theme(axis.text.x=element_text(angle=90, hjust=1)) + ggtitle(\"Moby Dick word frequency (over 350 tokens)\")+\n",
    "  xlab(\"Word\")+\n",
    "  ylab(\"Frequency\")\n"
   ]
  },
  {
   "cell_type": "code",
   "execution_count": null,
   "id": "4b860f7d",
   "metadata": {},
   "outputs": [],
   "source": [
    "#there are a lot of \"stopwords\" here. let's get rid of some.\n",
    "library(stopwords)\n",
    "head(stopwords_en,20)\n",
    "length(stopwords_en)\n",
    "\n",
    "dtm2<-dtm[! dtm$word %in% stopwords_en,] \n",
    "dtm2"
   ]
  },
  {
   "cell_type": "code",
   "execution_count": null,
   "id": "1e107820",
   "metadata": {},
   "outputs": [],
   "source": [
    "ggplot(subset(dtm2, freq > 200) ,aes(reorder(word, -freq), freq))+\n",
    "  geom_bar(stat=\"identity\")+\n",
    "  theme(axis.text.x=element_text(angle=90, hjust=1)) + ggtitle(\"Moby Dick word frequency (over 200 tokens, stopwords removed)\")+\n",
    "  xlab(\"Word\")+\n",
    "  ylab(\"Frequency\")"
   ]
  },
  {
   "cell_type": "code",
   "execution_count": null,
   "id": "4d5acb58",
   "metadata": {},
   "outputs": [],
   "source": [
    "##Histograms\n",
    "dtm3 <- dtm2[order(-freq)] #this also orders like setkey(dtm,freq) above\n",
    "dtm3[, rank:= .I, by=\"freq\"] #we are adding a column for the frequency rank\n",
    "dtm3"
   ]
  },
  {
   "cell_type": "code",
   "execution_count": null,
   "id": "272fe2c5",
   "metadata": {},
   "outputs": [],
   "source": [
    "a<-ggplot(dtm3 ,aes(rank,freq))+\n",
    "  geom_point(position=position_jitter(width=.05,height=.05))+ \n",
    "  ggtitle(\"Moby Dick word rank v frequency\")+\n",
    "  xlab(\"Rank\")+\n",
    "  ylab(\"Frequency\")"
   ]
  },
  {
   "cell_type": "code",
   "execution_count": null,
   "id": "4f3e7a9a",
   "metadata": {},
   "outputs": [],
   "source": [
    "d<-ggplot(dtm3 ,aes(rank,freq))+\n",
    "  geom_point(position=position_jitter(width=.05,height=.05))+ \n",
    "  scale_x_log10()+\n",
    "  scale_y_log10()+\n",
    "  ggtitle(\"Moby Dick log-log plot\")+\n",
    "  xlab(\"Rank (on log scale)\")+\n",
    "  ylab(\"Frequency (on log scale)\")"
   ]
  },
  {
   "cell_type": "code",
   "execution_count": null,
   "id": "c8df0230",
   "metadata": {},
   "outputs": [],
   "source": [
    "library(gridExtra)\n",
    "grid.arrange(a,d, ncol = 2)"
   ]
  },
  {
   "cell_type": "code",
   "execution_count": null,
   "id": "502f5b48",
   "metadata": {},
   "outputs": [],
   "source": [
    "##word cloud\n",
    "\n",
    "library(wordcloud2)\n",
    "dtm4<-dtm3[dtm3$freq >10,]\n",
    "wordcloud2(data=dtm4, size = 1, color=\"random-dark\", shape=\"triangle\", hoverFunction=NULL)\n",
    "#if the size is too big, sometimes the most frequent word won't show up"
   ]
  },
  {
   "cell_type": "code",
   "execution_count": null,
   "id": "907a643d",
   "metadata": {},
   "outputs": [],
   "source": []
  },
  {
   "cell_type": "code",
   "execution_count": null,
   "id": "7702a67e",
   "metadata": {},
   "outputs": [],
   "source": []
  }
 ],
 "metadata": {
  "kernelspec": {
   "display_name": "R",
   "language": "R",
   "name": "ir"
  },
  "language_info": {
   "codemirror_mode": "r",
   "file_extension": ".r",
   "mimetype": "text/x-r-source",
   "name": "R",
   "pygments_lexer": "r",
   "version": "3.6.1"
  }
 },
 "nbformat": 4,
 "nbformat_minor": 5
}
