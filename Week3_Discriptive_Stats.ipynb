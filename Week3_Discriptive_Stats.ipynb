{
 "cells": [
  {
   "cell_type": "markdown",
   "id": "101a2683",
   "metadata": {},
   "source": [
    "## Corpus Linguistics - LING3038/6038\n",
    "### Week 3\n",
    "\n",
    "How can we do some descriptive corpus statistics with R?\n",
    "\n",
    "Two easy ways to get started:\n",
    "\n",
    "1. a text file that we upload into R\n",
    "2. text data from the web\n"
   ]
  },
  {
   "cell_type": "code",
   "execution_count": null,
   "id": "819ef724",
   "metadata": {},
   "outputs": [],
   "source": [
    "#many packages to install today\n",
    "\n",
    "install.packages(\"corpus\")"
   ]
  },
  {
   "cell_type": "code",
   "execution_count": null,
   "id": "3eecc992",
   "metadata": {},
   "outputs": [],
   "source": [
    "install.packages(\"stringr\")"
   ]
  },
  {
   "cell_type": "code",
   "execution_count": null,
   "id": "6826a3a8",
   "metadata": {},
   "outputs": [],
   "source": [
    "install.packages(\"tm\")"
   ]
  },
  {
   "cell_type": "code",
   "execution_count": null,
   "id": "504cf897",
   "metadata": {},
   "outputs": [],
   "source": [
    "install.packages(c(\"ggplot2\",\"stopwords\"))"
   ]
  },
  {
   "cell_type": "code",
   "execution_count": null,
   "id": "2ab0f153",
   "metadata": {},
   "outputs": [],
   "source": [
    "install.packages(\"gridExtra\")"
   ]
  },
  {
   "cell_type": "code",
   "execution_count": null,
   "id": "57975921",
   "metadata": {},
   "outputs": [],
   "source": [
    "install.packages(\"wordcloud2\")"
   ]
  },
  {
   "cell_type": "code",
   "execution_count": null,
   "id": "2e6b50c8",
   "metadata": {},
   "outputs": [],
   "source": [
    "install.packages(\"ngram\")"
   ]
  },
  {
   "cell_type": "markdown",
   "id": "3184182d",
   "metadata": {},
   "source": [
    "First let's look at a text file from the web. There are multiple ways to upload this."
   ]
  },
  {
   "cell_type": "code",
   "execution_count": null,
   "id": "1246c094",
   "metadata": {},
   "outputs": [],
   "source": [
    "##string data from a text file or the web\n",
    "moby<-read.delim(\"https://www.gutenberg.org/files/2701/2701-0.txt\") #this causes some problems!\n",
    "moby"
   ]
  },
  {
   "cell_type": "code",
   "execution_count": null,
   "id": "2ec5f3f2",
   "metadata": {},
   "outputs": [],
   "source": [
    "moby2<-read.delim(\"https://www.gutenberg.org/files/2701/2701-0.txt\",encoding=\"UTF-8\",sep=\"\\n\") #this is better\n",
    "moby2"
   ]
  },
  {
   "cell_type": "code",
   "execution_count": null,
   "id": "cfd71e80",
   "metadata": {},
   "outputs": [],
   "source": [
    "moby3<-read.delim(file.choose(),encoding=\"UTF-8\",sep=\"\\n\") #this is a good option for reading a file in from your computer\n",
    "moby3"
   ]
  },
  {
   "cell_type": "code",
   "execution_count": null,
   "id": "2a037ca9",
   "metadata": {},
   "outputs": [],
   "source": [
    "#we can see the first and last bits of our object by using head() and tail()\n",
    "\n",
    "head(moby2,300)\n",
    "tail(moby2,300)"
   ]
  },
  {
   "cell_type": "code",
   "execution_count": null,
   "id": "188d9ad5",
   "metadata": {},
   "outputs": [],
   "source": [
    "##What do we do with all the header/footer info?\n",
    "##We can figure out the numbers of the rows where the data starts and ends. \n",
    "##Then we can assign that portion to a new object.\n",
    "\n",
    "moby2[196,]\n",
    "moby2[197,]\n",
    "\n",
    "moby2[18928:18929,]\n",
    "\n",
    "moby.text<-moby2[197:18928,]"
   ]
  },
  {
   "cell_type": "code",
   "execution_count": null,
   "id": "73dafd86",
   "metadata": {},
   "outputs": [],
   "source": [
    "##Here is an alternative way to do the same thing as above.\n",
    "##We name our lines based on finding certain indicators/signals of when the text starts and stops\n",
    "##We use the function readLines() from the package {}\n",
    "\n",
    "moby4<-readLines(\"https://www.gutenberg.org/files/2701/2701-0.txt\",encoding=\"UTF-8\")\n",
    "head(moby4)\n",
    "\n",
    "##Then we search for strings that signal the start/stop of the text and name them\n",
    "\n",
    "# the text starts after the Project Gutenberg header...\n",
    "start <- grep(\"START OF THE PROJECT GUTENBERG\", moby4, value=F) + 1 #one line after the line with this text\n",
    "\n",
    "# ...end ends at the Project Gutenberg footer.\n",
    "stop <- grep(\"END OF THE PROJECT GUTENBERG\", moby4,value=F) - 1 #one line before the line with this text\n",
    "\n",
    "start\n",
    "stop\n",
    "\n"
   ]
  },
  {
   "cell_type": "code",
   "execution_count": null,
   "id": "5783e177",
   "metadata": {},
   "outputs": [],
   "source": [
    "\n",
    "moby.lines <- moby4[start:stop]\n",
    "head(moby.lines,20)"
   ]
  },
  {
   "cell_type": "code",
   "execution_count": null,
   "id": "d2bb9efb",
   "metadata": {},
   "outputs": [],
   "source": [
    "length(moby.text)\n"
   ]
  },
  {
   "cell_type": "code",
   "execution_count": null,
   "id": "fad354b7",
   "metadata": {},
   "outputs": [],
   "source": [
    "length(moby.lines)"
   ]
  },
  {
   "cell_type": "markdown",
   "id": "8c357b49",
   "metadata": {},
   "source": [
    "Now let's work with our object 'moby.text'"
   ]
  },
  {
   "cell_type": "code",
   "execution_count": null,
   "id": "fd3ec006",
   "metadata": {},
   "outputs": [],
   "source": [
    "head(moby.text)"
   ]
  },
  {
   "cell_type": "code",
   "execution_count": null,
   "id": "b73ab370",
   "metadata": {},
   "outputs": [],
   "source": [
    "moby.text.lowercase<-tolower(moby.text)\n",
    "head(moby.text.lowercase)"
   ]
  },
  {
   "cell_type": "code",
   "execution_count": null,
   "id": "0bb1a829",
   "metadata": {},
   "outputs": [],
   "source": [
    "#Making this object into a vector will be useful for us. Right now it is a XXYY of text strings\n",
    "is.list(moby.text.lowercase)\n",
    "\n",
    "moby.text.lowercase.vector<-paste(unlist(moby.text.lowercase), collapse =\" \")\n",
    "head(moby.text.lowercase.vector)"
   ]
  },
  {
   "cell_type": "code",
   "execution_count": null,
   "id": "ecdb2437",
   "metadata": {},
   "outputs": [],
   "source": [
    "moby.vec<-moby.text.lowercase.vector #this is just to create a back-up object and work with an object with a shorter name"
   ]
  },
  {
   "cell_type": "code",
   "execution_count": null,
   "id": "afbdb6ea",
   "metadata": {},
   "outputs": [],
   "source": [
    "\n",
    "library(corpus)\n",
    "moby.toks.corpus<-text_tokens(moby.vec, drop_punct=T)\n",
    "moby.toks.corpus"
   ]
  },
  {
   "cell_type": "code",
   "execution_count": null,
   "id": "fee32f1c",
   "metadata": {},
   "outputs": [],
   "source": [
    "library(stringr)\n",
    "moby.toks.stringr<-str_split(moby.vec, \"\\\\s|[[:PUNCT:]]\") #this is a regular expression. we'll get to these soon\n",
    "moby.toks.stringr"
   ]
  },
  {
   "cell_type": "code",
   "execution_count": null,
   "id": "f46e0453",
   "metadata": {},
   "outputs": [],
   "source": [
    "library(tm)\n",
    "moby.toks.tm.scan<-scan_tokenizer(moby.vec) #this package has a few different tokenizers with different function names\n",
    "moby.toks.tm.scan"
   ]
  },
  {
   "cell_type": "code",
   "execution_count": null,
   "id": "26240bde",
   "metadata": {},
   "outputs": [],
   "source": []
  }
 ],
 "metadata": {
  "kernelspec": {
   "display_name": "R",
   "language": "R",
   "name": "ir"
  },
  "language_info": {
   "codemirror_mode": "r",
   "file_extension": ".r",
   "mimetype": "text/x-r-source",
   "name": "R",
   "pygments_lexer": "r",
   "version": "3.6.1"
  }
 },
 "nbformat": 4,
 "nbformat_minor": 5
}
