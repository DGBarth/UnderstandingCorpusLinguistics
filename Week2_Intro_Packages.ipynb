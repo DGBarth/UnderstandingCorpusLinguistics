{
 "cells": [
  {
   "cell_type": "markdown",
   "id": "bed0ca63",
   "metadata": {},
   "source": [
    "## Corpus Linguistics\n",
    "### LING3038/6038\n",
    "### Welcome to R\n",
    "\n",
    "Let's get coding.\n",
    "\n",
    "The text after a # is a comment and doesn't do anything, just gives information\n",
    "\n",
    "text that does not follow a # is a command"
   ]
  },
  {
   "cell_type": "code",
   "execution_count": null,
   "id": "6ab7fe79",
   "metadata": {},
   "outputs": [],
   "source": [
    "#comment: you can run simple calculator-style commands in R\n",
    "5+6"
   ]
  },
  {
   "cell_type": "markdown",
   "id": "6d29dffd",
   "metadata": {},
   "source": [
    "A variable stands in for a value. You assign a value to a variable. The variable is then an \"object\" in R and you can use it later in your commands.\n"
   ]
  },
  {
   "cell_type": "code",
   "execution_count": null,
   "id": "521d2556",
   "metadata": {},
   "outputs": [],
   "source": [
    "x<- 5+6\n",
    "x"
   ]
  },
  {
   "cell_type": "code",
   "execution_count": null,
   "id": "045ead15",
   "metadata": {},
   "outputs": [],
   "source": [
    "y<-x+6\n",
    "y"
   ]
  },
  {
   "cell_type": "code",
   "execution_count": null,
   "id": "ae590fcf",
   "metadata": {},
   "outputs": [],
   "source": [
    "z<-x+y"
   ]
  },
  {
   "cell_type": "markdown",
   "id": "18e87d2e",
   "metadata": {},
   "source": [
    "Assigning a variable does not call it (print it/make it do something). You need to write z if you want to see the value of z."
   ]
  },
  {
   "cell_type": "code",
   "execution_count": null,
   "id": "92879fa8",
   "metadata": {},
   "outputs": [],
   "source": [
    "z"
   ]
  },
  {
   "cell_type": "markdown",
   "id": "613219b0",
   "metadata": {},
   "source": [
    "Now you try."
   ]
  },
  {
   "cell_type": "code",
   "execution_count": null,
   "id": "f52854c0",
   "metadata": {},
   "outputs": [],
   "source": [
    "#multiple z by 2 (use *)\n",
    "\n"
   ]
  },
  {
   "cell_type": "code",
   "execution_count": null,
   "id": "6ce25f98",
   "metadata": {},
   "outputs": [],
   "source": [
    "#subract 3 from y\n",
    "\n"
   ]
  },
  {
   "cell_type": "code",
   "execution_count": null,
   "id": "a0c8e946",
   "metadata": {},
   "outputs": [],
   "source": [
    "#divide z by 4\n",
    "\n"
   ]
  },
  {
   "cell_type": "code",
   "execution_count": null,
   "id": "9c6d6643",
   "metadata": {},
   "outputs": [],
   "source": [
    "#use () around your variable assignment to return the answer and save the variable\n",
    "(ans<-6*77)"
   ]
  },
  {
   "cell_type": "markdown",
   "id": "61573bf0",
   "metadata": {},
   "source": [
    "We are doing corpus linguistics, so we need to work with text."
   ]
  },
  {
   "cell_type": "code",
   "execution_count": null,
   "id": "013eb175",
   "metadata": {},
   "outputs": [],
   "source": [
    "#you can also assign text values\n",
    "phrase<-\"once upon a time there were three bears\"\n",
    "phrase"
   ]
  },
  {
   "cell_type": "code",
   "execution_count": null,
   "id": "b5d83373",
   "metadata": {},
   "outputs": [],
   "source": [
    "#you can assign lists (and more complex objects)\n",
    "#the format c() is important as is the , and \"\" when it's text. spaces aren't important\n",
    "shopping<-c(\"apples\",\"soy sauce\", \"noodles\",    \"mince\")\n",
    "chores<-c(\"taxes\",\"clean sink\",\"water plants\")\n",
    "\n",
    "shopping\n",
    "chores"
   ]
  },
  {
   "cell_type": "code",
   "execution_count": null,
   "id": "6538a384",
   "metadata": {},
   "outputs": [],
   "source": [
    "#Fix this code:\n",
    "\n",
    "MON_routine<-(\"skin care\",\"vitamins\", \"affirmations\")\n",
    "TUE_routine< c(\"skin care\",\"walk dog\",\"yoga\")\n",
    "WED_routine<-c(\"eat yogurt\" \"meditate\"   \"brush dog\")\n",
    "THU_routine<-c(drink tea, take vitamins, meditate)\n",
    "\n",
    "MON_routine\n",
    "TUE_routine\n",
    "WED_routine\n",
    "THU_Routine"
   ]
  },
  {
   "cell_type": "code",
   "execution_count": null,
   "id": "68b36c2b",
   "metadata": {},
   "outputs": [],
   "source": [
    "#you can also make a data frame, another class of object (we will work a lot with these)\n",
    "todos<-data.frame(shopping,chores) #note we need the same number of rows in a data frame so this code will produce an error\n",
    "\n"
   ]
  },
  {
   "cell_type": "code",
   "execution_count": null,
   "id": "ca2b371b",
   "metadata": {},
   "outputs": [],
   "source": [
    "chores2<-c(\"taxes\",\"clean sink\",\"water plants\",\"write essay\")\n",
    "todos2<-data.frame(shopping, chores2)\n",
    "\n",
    "todos2"
   ]
  },
  {
   "cell_type": "code",
   "execution_count": null,
   "id": "829e33c9",
   "metadata": {},
   "outputs": [],
   "source": [
    "#Remember that all of these variables are 'objects' for R\n",
    "#let's see our objects so far\n",
    "objects()\n"
   ]
  },
  {
   "cell_type": "code",
   "execution_count": null,
   "id": "04163f9c",
   "metadata": {},
   "outputs": [],
   "source": [
    "#you can run a function on an object\n",
    "#a function is recognizable by its ()\n",
    "print(phrase)  #in R you can print a string just by calling the object, you don't actually need to use the function print()\n",
    "\n",
    "sqrt(z)"
   ]
  },
  {
   "cell_type": "code",
   "execution_count": null,
   "id": "d0399b22",
   "metadata": {},
   "outputs": [],
   "source": [
    "#you can run multiple functions at once\n",
    "print(toupper(phrase))"
   ]
  },
  {
   "cell_type": "code",
   "execution_count": null,
   "id": "6c1ff34e",
   "metadata": {},
   "outputs": [],
   "source": [
    "#functions do not change variables\n",
    "phrase\n",
    "\n",
    "#if you want to save the result of a function, it needs to be assigned to its own object\n",
    "PHRASE<-toupper(phrase)\n",
    "\n",
    "PHRASE"
   ]
  },
  {
   "cell_type": "markdown",
   "id": "f576a5e2",
   "metadata": {},
   "source": [
    "## Packages\n",
    "\n",
    "R has many functions built-in, but you can also install and load a package to have more functions for specific purposes"
   ]
  },
  {
   "cell_type": "code",
   "execution_count": null,
   "id": "54710521",
   "metadata": {},
   "outputs": [],
   "source": [
    "#install packages\n",
    "install.packages(c(\"tokenizers\",\"data.table\"))"
   ]
  },
  {
   "cell_type": "code",
   "execution_count": null,
   "id": "2cb7b578",
   "metadata": {},
   "outputs": [],
   "source": [
    "#{tokenizers} has a functions like tokenize_words() to seprate out words into tokens from a string and tokenize_characters() to seprate out characters from strings\n",
    "library(tokenizers) #load the package\n",
    "\n",
    "tokenize_words(phrase)\n",
    "tokenize_characters(PHRASE)"
   ]
  },
  {
   "cell_type": "code",
   "execution_count": null,
   "id": "1612a901",
   "metadata": {},
   "outputs": [],
   "source": [
    "#{data.table} makes nice tables and we will use it a lot in this course. data.tables are better than dataframes, so let's make one out of our lists\n",
    "\n",
    "library(data.table)  #load the package\n",
    "todos<-as.data.table(todos)\n",
    "\n",
    "todos2\n"
   ]
  },
  {
   "cell_type": "code",
   "execution_count": null,
   "id": "dda45140",
   "metadata": {},
   "outputs": [],
   "source": [
    "#melt() is a very helpful function in data.table that we will be using later on in the course\n",
    "#melt() restructures your data \n",
    "\n",
    "weekend.list<-melt(todos, measure.vars = c(1:2),              #note, the measure.vars are the columns\n",
    "               variable.name = \"task.type\", value.name = \"tasks\")\n",
    "\n",
    "weekend.list"
   ]
  },
  {
   "cell_type": "code",
   "execution_count": null,
   "id": "cc730164",
   "metadata": {},
   "outputs": [],
   "source": [
    "#measure variables can be referred to with numbers (as above) or with names (as below)\n",
    "\n",
    "(friday.list<-melt(todos, measure.vars = c(\"shopping\",\"chores2\"),             \n",
    "                 variable.name = \"task.type\", value.name = \"tasks\"))"
   ]
  },
  {
   "cell_type": "markdown",
   "id": "db1ee3d8",
   "metadata": {},
   "source": [
    "In a dataframe (or data.table) each column, row and cell has a number. you can refer to them with this number"
   ]
  },
  {
   "cell_type": "code",
   "execution_count": null,
   "id": "fb701d65",
   "metadata": {},
   "outputs": [],
   "source": [
    "#columns\n",
    "weekend.list[,1]\n"
   ]
  },
  {
   "cell_type": "code",
   "execution_count": null,
   "id": "56dd56cd",
   "metadata": {},
   "outputs": [],
   "source": [
    "weekend.list[,2]\n"
   ]
  },
  {
   "cell_type": "markdown",
   "id": "7f2a360e",
   "metadata": {},
   "source": [
    "weekend.list[,3]"
   ]
  },
  {
   "cell_type": "code",
   "execution_count": null,
   "id": "7b4665da",
   "metadata": {},
   "outputs": [],
   "source": [
    "#rows\n",
    "weekend.list[1,]"
   ]
  },
  {
   "cell_type": "code",
   "execution_count": null,
   "id": "250c5ba5",
   "metadata": {},
   "outputs": [],
   "source": [
    "weekend.list[7,]\n"
   ]
  },
  {
   "cell_type": "code",
   "execution_count": null,
   "id": "b2207609",
   "metadata": {
    "scrolled": true
   },
   "outputs": [],
   "source": [
    "#cells\n",
    "weekend.list[4,2]"
   ]
  },
  {
   "cell_type": "markdown",
   "id": "14b0efc0",
   "metadata": {},
   "source": [
    "Write some code yourself to find specific values"
   ]
  },
  {
   "cell_type": "code",
   "execution_count": null,
   "id": "fc12d196",
   "metadata": {},
   "outputs": [],
   "source": [
    "#Write code to print the cell that has the value \"clean sink\"\n",
    "\n"
   ]
  },
  {
   "cell_type": "code",
   "execution_count": null,
   "id": "1fbfeaf8",
   "metadata": {},
   "outputs": [],
   "source": [
    "#Write code to find the value of the cell in second row of the first column\n",
    "\n"
   ]
  },
  {
   "cell_type": "markdown",
   "id": "fd8e9f89",
   "metadata": {},
   "source": [
    "As a note: usually columns have names (like \"tasks\" in our data.table) but often rows don't"
   ]
  }
 ],
 "metadata": {
  "kernelspec": {
   "display_name": "R",
   "language": "R",
   "name": "ir"
  },
  "language_info": {
   "codemirror_mode": "r",
   "file_extension": ".r",
   "mimetype": "text/x-r-source",
   "name": "R",
   "pygments_lexer": "r",
   "version": "3.6.1"
  }
 },
 "nbformat": 4,
 "nbformat_minor": 5
}
